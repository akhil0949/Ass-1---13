{
  "metadata": {
    "language_info": {
      "name": ""
    },
    "kernelspec": {
      "name": "",
      "display_name": ""
    }
  },
  "nbformat_minor": 4,
  "nbformat": 4,
  "cells": [
    {
      "cell_type": "code",
      "source": "1.What advantages do Excel spreadsheets have over CSV spreadsheets?\n\nExcel is superior over csv file\n\ncsv files consumes less amount of data\n\ncsv file does not manipluate data ans store it as is\n",
      "metadata": {},
      "execution_count": null,
      "outputs": []
    },
    {
      "cell_type": "code",
      "source": "2.What do you pass to csv.reader() and csv.writer() to create reader and writer objects?\n\nfile",
      "metadata": {},
      "execution_count": null,
      "outputs": []
    },
    {
      "cell_type": "code",
      "source": "3. What modes do File objects for reader and writer objects need to be opened in?\ndefault file is opened in r mode i.e. read mode. 'w' means write mode if already text is present in file it is truncated and new will bw written 'x' creating and writing to new file 'a' for appending\n",
      "metadata": {},
      "execution_count": null,
      "outputs": []
    },
    {
      "cell_type": "code",
      "source": "4. What method takes a list argument and writes it to a CSV file?\ncsv.writer writerrow method is used to take a list arguments\n",
      "metadata": {},
      "execution_count": null,
      "outputs": []
    },
    {
      "cell_type": "code",
      "source": "5. What do the keyword arguments delimiter and line terminator do?\nline terminator is a character that comes at the end of row.By default line terminator is new line\n",
      "metadata": {},
      "execution_count": null,
      "outputs": []
    },
    {
      "cell_type": "code",
      "source": "6. What function takes a string of JSON data and returns a Python data structure?\nloads() method takes a string of JSON data and returns a python data structure\n",
      "metadata": {},
      "execution_count": null,
      "outputs": []
    },
    {
      "cell_type": "code",
      "source": "7. What function takes a Python data structure and returns a string of JSON data?\njson()",
      "metadata": {},
      "execution_count": null,
      "outputs": []
    }
  ]
}